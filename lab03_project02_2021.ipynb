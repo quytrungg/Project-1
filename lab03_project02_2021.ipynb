{
 "cells": [
  {
   "cell_type": "markdown",
   "metadata": {},
   "source": [
    "# <center>Phân tích ma trận trong Python</center>"
   ]
  },
  {
   "cell_type": "markdown",
   "metadata": {},
   "source": [
    "## Mục lục\n",
    "* [Thực hành](#c1)\n",
    "    * [Trị riêng - Vector riêng](#c11)\n",
    "    * [Chéo hóa](#c12)\n",
    "    * [Chéo hóa trực giao](#c13)\n",
    "* [Đồ án 2: Image Processing](#c2)\n",
    "    * [Nội dung đồ án](#c21)\n",
    "    * [Quy định nộp bài](#c22)\n",
    "    * [Quy định chấm bài](#c23)"
   ]
  },
  {
   "cell_type": "markdown",
   "metadata": {},
   "source": [
    "## Thực hành <a class=\"anchor\" id=\"c1\"></a>"
   ]
  },
  {
   "cell_type": "markdown",
   "metadata": {},
   "source": [
    "Trong lab này, chúng ta sẽ tìm hiểu về phân tích ma trận sử dụng `NumPy`.\n",
    "\n",
    "Cho ma trận:\n",
    "$$A = \\begin{bmatrix}\n",
    "    3 & -2 & 0\\\\ \n",
    "    -2 & 3 & 0\\\\ \n",
    "    0 & 0 & 5\n",
    "    \\end{bmatrix}$$"
   ]
  },
  {
   "cell_type": "code",
   "execution_count": 1,
   "metadata": {},
   "outputs": [],
   "source": [
    "import numpy as np"
   ]
  },
  {
   "cell_type": "code",
   "execution_count": 2,
   "metadata": {},
   "outputs": [],
   "source": [
    "A = np.array([[3, -2, 0],\n",
    "              [-2, 3, 0],\n",
    "              [0, 0, 5]])"
   ]
  },
  {
   "cell_type": "code",
   "execution_count": 3,
   "metadata": {},
   "outputs": [],
   "source": [
    "def is_close(A, B, eps=10e-3):\n",
    "    return np.all(np.abs(A - B) < eps)"
   ]
  },
  {
   "cell_type": "markdown",
   "metadata": {},
   "source": [
    "Các phân tích được giới thiệu trong lab này là:\n",
    "1. Tìm trị riêng và vector riêng\n",
    "2. Chéo hóa\n",
    "3. Chéo hóa trực giao"
   ]
  },
  {
   "cell_type": "markdown",
   "metadata": {},
   "source": [
    "### Trị riêng - Vector riêng <a class=\"anchor\" id=\"c11\"></a>"
   ]
  },
  {
   "cell_type": "markdown",
   "metadata": {},
   "source": [
    "#### Sử dụng thuật toán [Power iteration](https://en.wikipedia.org/wiki/Power_iteration) và Hotelling's Deflation [[1](https://web.stanford.edu/~lmackey/papers/deflation-nips08.pdf), [2](https://www.robots.ox.ac.uk/~sjrob/Teaching/EngComp/ecl4.pdf)]"
   ]
  },
  {
   "cell_type": "code",
   "execution_count": 4,
   "metadata": {},
   "outputs": [],
   "source": [
    "def eigen_power_iteration(A, n_iter=1000, eps=10e-5):\n",
    "    # Khởi tạo vector ngẫu nhiên\n",
    "    b_k = np.random.rand(A.shape[1])\n",
    "    b_k_pre = np.zeros(A.shape[1])\n",
    "\n",
    "    # Lặp tối đa n_iter lần để tìm vector riêng\n",
    "    for _ in range(int(n_iter)):\n",
    "        # Tính tích ma trận theo vector riêng\n",
    "        numerator = np.dot(A, b_k)\n",
    "        denominator = np.linalg.norm(numerator)\n",
    "        \n",
    "        b_k = numerator / denominator\n",
    "        \n",
    "        # Dừng khi sự thay đổi của vector trước và vector sau không đáng kể\n",
    "        if np.all(np.abs(b_k - b_k_pre) < eps):\n",
    "            break\n",
    "        \n",
    "        b_k_pre = b_k\n",
    "        \n",
    "    # Tìm trị riêng (Rayleigh quotient iteration)\n",
    "    lamb = ((b_k @ A) @ b_k) / (b_k @ b_k)\n",
    "\n",
    "    return lamb, b_k # lamb: trị riêng, b_k: vector riêng\n",
    "\n",
    "\n",
    "def my_eigens(A, n_iter=1000, eps=10e-5):\n",
    "    eigenvalues = []\n",
    "    eigenvectors = []\n",
    "    \n",
    "    n_rows = A.shape[0]\n",
    "    \n",
    "    # Tìm tất cả các trị riêng, vector riêng có thể\n",
    "    for _ in range(n_rows):\n",
    "        lamb, b_k = eigen_power_iteration(A, n_iter, eps)\n",
    "        \n",
    "        eigenvalues.append(lamb)\n",
    "        eigenvectors.append(b_k)\n",
    "        \n",
    "        # Hotelling's deflation\n",
    "        b_k = b_k.reshape(-1, 1) # Chuyển đổi thành vector cột\n",
    "        A = A - lamb * (b_k @ b_k.T)\n",
    "        \n",
    "    return np.array(eigenvalues), np.array(eigenvectors).T"
   ]
  },
  {
   "cell_type": "code",
   "execution_count": 5,
   "metadata": {
    "scrolled": false
   },
   "outputs": [
    {
     "data": {
      "text/plain": [
       "(array([5.        , 5.        , 1.00000001]),\n",
       " array([[-3.49302350e-01, -6.14786805e-01,  7.07195347e-01],\n",
       "        [ 3.49313999e-01,  6.14820935e-01,  7.07018204e-01],\n",
       "        [ 8.69463972e-01, -4.93996359e-01,  2.38004080e-05]]))"
      ]
     },
     "execution_count": 5,
     "metadata": {},
     "output_type": "execute_result"
    }
   ],
   "source": [
    "my_eigenvalues, my_eigenvectors = my_eigens(A)\n",
    "\n",
    "my_eigenvalues, my_eigenvectors"
   ]
  },
  {
   "cell_type": "code",
   "execution_count": 6,
   "metadata": {},
   "outputs": [
    {
     "data": {
      "text/plain": [
       "(array([[-1.74653505],\n",
       "        [ 1.7465467 ],\n",
       "        [ 4.34731986]]),\n",
       " array([[-1.74651175],\n",
       "        [ 1.74657   ],\n",
       "        [ 4.34731986]]))"
      ]
     },
     "execution_count": 6,
     "metadata": {},
     "output_type": "execute_result"
    }
   ],
   "source": [
    "# Kiểm tra cặp trị riêng, vector riêng đầu tiên\n",
    "my_lamb = my_eigenvalues[0]\n",
    "my_X = my_eigenvectors[:, 0].reshape(-1, 1)\n",
    "\n",
    "A @ my_X, my_lamb * my_X"
   ]
  },
  {
   "cell_type": "code",
   "execution_count": 7,
   "metadata": {},
   "outputs": [
    {
     "data": {
      "text/plain": [
       "True"
      ]
     },
     "execution_count": 7,
     "metadata": {},
     "output_type": "execute_result"
    }
   ],
   "source": [
    "is_close(A @ my_X, my_lamb * my_X)"
   ]
  },
  {
   "cell_type": "markdown",
   "metadata": {},
   "source": [
    "#### Thư viện `np.linalg`"
   ]
  },
  {
   "cell_type": "code",
   "execution_count": 8,
   "metadata": {
    "scrolled": true
   },
   "outputs": [
    {
     "data": {
      "text/plain": [
       "(array([5., 1., 5.]),\n",
       " array([[ 0.70710678,  0.70710678,  0.        ],\n",
       "        [-0.70710678,  0.70710678,  0.        ],\n",
       "        [ 0.        ,  0.        ,  1.        ]]))"
      ]
     },
     "execution_count": 8,
     "metadata": {},
     "output_type": "execute_result"
    }
   ],
   "source": [
    "np_eigenvalues, np_eigenvectors = np.linalg.eig(A)\n",
    "\n",
    "np_eigenvalues, np_eigenvectors"
   ]
  },
  {
   "cell_type": "code",
   "execution_count": 9,
   "metadata": {},
   "outputs": [
    {
     "data": {
      "text/plain": [
       "(array([[ 3.53553391],\n",
       "        [-3.53553391],\n",
       "        [ 0.        ]]),\n",
       " array([[ 3.53553391],\n",
       "        [-3.53553391],\n",
       "        [ 0.        ]]))"
      ]
     },
     "execution_count": 9,
     "metadata": {},
     "output_type": "execute_result"
    }
   ],
   "source": [
    "# Kiểm tra cặp trị riêng, vector riêng đầu tiên\n",
    "np_lamb = np_eigenvalues[0]\n",
    "np_X = np_eigenvectors[:, 0].reshape(-1, 1)\n",
    "\n",
    "A @ np_X, np_lamb * np_X"
   ]
  },
  {
   "cell_type": "code",
   "execution_count": 10,
   "metadata": {},
   "outputs": [
    {
     "data": {
      "text/plain": [
       "True"
      ]
     },
     "execution_count": 10,
     "metadata": {},
     "output_type": "execute_result"
    }
   ],
   "source": [
    "is_close(A @ np_X, np_lamb * np_X)"
   ]
  },
  {
   "cell_type": "markdown",
   "metadata": {},
   "source": [
    "### Chéo hóa <a class=\"anchor\" id=\"c12\"></a>"
   ]
  },
  {
   "cell_type": "code",
   "execution_count": 11,
   "metadata": {},
   "outputs": [],
   "source": [
    "def my_diag(A):\n",
    "    # Tìm trị riêng, vector riêng\n",
    "    eigenvalues, eigenvectors = np.linalg.eig(A)\n",
    "    \n",
    "    # Sắp xếp giảm dần theo trị riêng\n",
    "    sorted_idx = np.argsort(eigenvalues)[::-1]\n",
    "    eigenvalues = eigenvalues[sorted_idx]\n",
    "    eigenvectors = eigenvectors[:, sorted_idx]\n",
    "    \n",
    "    P_matrix = eigenvectors\n",
    "    P_inv_matrix = np.linalg.inv(P_matrix)\n",
    "    D_matrix = np.diag(eigenvalues)\n",
    "    \n",
    "    return P_matrix, D_matrix, P_inv_matrix"
   ]
  },
  {
   "cell_type": "code",
   "execution_count": 12,
   "metadata": {},
   "outputs": [
    {
     "data": {
      "text/plain": [
       "(array([[ 0.        ,  0.70710678,  0.70710678],\n",
       "        [ 0.        , -0.70710678,  0.70710678],\n",
       "        [ 1.        ,  0.        ,  0.        ]]),\n",
       " array([[5., 0., 0.],\n",
       "        [0., 5., 0.],\n",
       "        [0., 0., 1.]]),\n",
       " array([[ 0.        ,  0.        ,  1.        ],\n",
       "        [ 0.70710678, -0.70710678,  0.        ],\n",
       "        [ 0.70710678,  0.70710678,  0.        ]]))"
      ]
     },
     "execution_count": 12,
     "metadata": {},
     "output_type": "execute_result"
    }
   ],
   "source": [
    "P, D, P_inv = my_diag(A)\n",
    "(P, D, P_inv)"
   ]
  },
  {
   "cell_type": "code",
   "execution_count": 13,
   "metadata": {},
   "outputs": [
    {
     "data": {
      "text/plain": [
       "True"
      ]
     },
     "execution_count": 13,
     "metadata": {},
     "output_type": "execute_result"
    }
   ],
   "source": [
    "is_close(D, P_inv @ A @ P)"
   ]
  },
  {
   "cell_type": "markdown",
   "metadata": {},
   "source": [
    "### Chéo hóa trực giao <a class=\"anchor\" id=\"c13\"></a>"
   ]
  },
  {
   "cell_type": "code",
   "execution_count": 14,
   "metadata": {},
   "outputs": [],
   "source": [
    "def my_orth_diag(A):\n",
    "    # Tìm trị riêng, vector riêng\n",
    "    eigenvalues, eigenvectors = np.linalg.eig(A)\n",
    "    \n",
    "    # Sắp xếp theo trị riêng giảm dần\n",
    "    sorted_idx = np.argsort(eigenvalues)[::-1]\n",
    "    eigenvalues = eigenvalues[sorted_idx]\n",
    "    eigenvectors = eigenvectors[:, sorted_idx]\n",
    "    \n",
    "    # Trực giao\n",
    "    P_matrix, _ = np.linalg.qr(eigenvectors)\n",
    "    \n",
    "    P_transpose = P_matrix.T\n",
    "    D_matrix = np.diag(eigenvalues)\n",
    "    \n",
    "    return P_matrix, D_matrix, P_transpose"
   ]
  },
  {
   "cell_type": "code",
   "execution_count": 15,
   "metadata": {},
   "outputs": [
    {
     "data": {
      "text/plain": [
       "(array([[ 0.        ,  0.70710678, -0.70710678],\n",
       "        [-0.        , -0.70710678, -0.70710678],\n",
       "        [-1.        ,  0.        ,  0.        ]]),\n",
       " array([[5., 0., 0.],\n",
       "        [0., 5., 0.],\n",
       "        [0., 0., 1.]]),\n",
       " array([[ 0.        , -0.        , -1.        ],\n",
       "        [ 0.70710678, -0.70710678,  0.        ],\n",
       "        [-0.70710678, -0.70710678,  0.        ]]))"
      ]
     },
     "execution_count": 15,
     "metadata": {},
     "output_type": "execute_result"
    }
   ],
   "source": [
    "(P, D, P_T) = my_orth_diag(A)\n",
    "(P, D, P_T)"
   ]
  },
  {
   "cell_type": "code",
   "execution_count": 16,
   "metadata": {},
   "outputs": [
    {
     "data": {
      "text/plain": [
       "True"
      ]
     },
     "execution_count": 16,
     "metadata": {},
     "output_type": "execute_result"
    }
   ],
   "source": [
    "is_close(D, P_T @ A @ P)"
   ]
  },
  {
   "cell_type": "markdown",
   "metadata": {},
   "source": [
    "---"
   ]
  },
  {
   "cell_type": "markdown",
   "metadata": {},
   "source": [
    "## Đồ án 2: Image Processing <a class=\"anchor\" id=\"c2\"></a>"
   ]
  },
  {
   "cell_type": "markdown",
   "metadata": {},
   "source": [
    "### Nội dung đồ án <a class=\"anchor\" id=\"c21\"></a>"
   ]
  },
  {
   "cell_type": "markdown",
   "metadata": {},
   "source": [
    "#### Giới thiệu"
   ]
  },
  {
   "cell_type": "markdown",
   "metadata": {},
   "source": [
    "Một bức ảnh có thể lưu trữ dưới ma trận của các điểm ảnh. Có nhiều loại ảnh được sử dụng trong thực tế, ví dụ: ảnh xám, ảnh màu,... \n",
    "\n",
    "Đối với ảnh xám, một điểm ảnh sẽ là được biểu diễn bằng giá trị không âm. \n",
    "\n",
    "Ví dụ ta có thể dùng ma trận này:\n",
    "$$\\begin{bmatrix}\n",
    "255 & 0 & 0  & 0  & 255 \\\\ \n",
    "255 & 0 & 255 & 0 & 255\\\\ \n",
    "255 & 0 & 255 & 0 & 255\\\\ \n",
    "255 & 0 & 255 & 0 & 255\\\\ \n",
    "255 & 0 & 0  & 0  & 255\n",
    "\\end{bmatrix}$$\n",
    "\n",
    "có thể biểu diễn cho ảnh xám có nội dung như sau:"
   ]
  },
  {
   "cell_type": "code",
   "execution_count": 2,
   "metadata": {
    "scrolled": false
   },
   "outputs": [
    {
     "data": {
      "image/png": "[encoded data removed]",
      "text/plain": [
       "<Figure size 432x288 with 1 Axes>"
      ]
     },
     "metadata": {
      "needs_background": "light"
     },
     "output_type": "display_data"
    }
   ],
   "source": [
    "import matplotlib.pyplot as plt\n",
    "import numpy as np\n",
    "\n",
    "plt.imshow(np.array([[255, 0, 0,   0, 255],\n",
    "                     [255, 0, 255, 0, 255],\n",
    "                     [255, 0, 255, 0, 255],\n",
    "                     [255, 0, 255, 0, 255],\n",
    "                     [255, 0, 0,   0, 255]]), cmap='gray', vmin=100, vmax=200);"
   ]
  },
  {
   "cell_type": "markdown",
   "metadata": {},
   "source": [
    "Ảnh màu được sử dụng phổ biến là ảnh RGB, trong đó, mỗi điểm ảnh sẽ lưu trữ 3 thông tin kênh màu (mỗi kênh màu 1 byte) là: R (red - đỏ), G (green - xanh lá), B (blue - xanh dương). Ta có thể sử dụng ma trận:\n",
    "```\n",
    "                    [[[255, 255, 255], [255, 0, 0], [255, 0, 0], [255, 0, 0], [255, 255, 255]],\n",
    "                     [[255, 255, 255], [255, 0, 0], [255, 255, 255], [255, 0, 0], [255, 255, 255]],\n",
    "                     [[255, 255, 255], [255, 0, 0], [255, 255, 255], [255, 0, 0], [255, 255, 255]],\n",
    "                     [[255, 255, 255], [255, 0, 0], [255, 255, 255], [255, 0, 0], [255, 255, 255]],\n",
    "                     [[255, 255, 255], [255, 0, 0], [255, 0, 0], [255, 0, 0], [255, 255, 255]]]\n",
    "```\n",
    "để biểu diễn cho ảnh màu có nội dung sau:"
   ]
  },
  {
   "cell_type": "code",
   "execution_count": 18,
   "metadata": {
    "scrolled": true
   },
   "outputs": [
    {
     "data": {
      "image/png": "[encoded data removed]",
      "text/plain": [
       "<Figure size 432x288 with 1 Axes>"
      ]
     },
     "metadata": {
      "needs_background": "light"
     },
     "output_type": "display_data"
    }
   ],
   "source": [
    "plt.imshow(np.array([[[255, 255, 255], [255, 0, 0], [255, 0,   0],   [255, 0, 0], [255, 255, 255]],\n",
    "                     [[255, 255, 255], [255, 0, 0], [255, 255, 255], [255, 0, 0], [255, 255, 255]],\n",
    "                     [[255, 255, 255], [255, 0, 0], [255, 255, 255], [255, 0, 0], [255, 255, 255]],\n",
    "                     [[255, 255, 255], [255, 0, 0], [255, 255, 255], [255, 0, 0], [255, 255, 255]],\n",
    "                     [[255, 255, 255], [255, 0, 0], [255, 0,   0],   [255, 0, 0], [255, 255, 255]]]));"
   ]
  },
  {
   "cell_type": "markdown",
   "metadata": {},
   "source": [
    "Tóm lại, ảnh được lưu trữ dưới dạng **ma trận các điểm ảnh**. Mỗi điểm ảnh có thể là *một giá trị* (ảnh xám) hoặc **một vector** (ảnh màu)."
   ]
  },
  {
   "cell_type": "markdown",
   "metadata": {},
   "source": [
    "#### Yêu cầu"
   ]
  },
  {
   "cell_type": "markdown",
   "metadata": {},
   "source": [
    "Trong đồ án này, bạn được yêu cầu thực hiện các chức năng xử lý ảnh cơ bản sau:\n",
    "    \n",
    "1. Thay đổi độ sáng cho ảnh (1 điểm)\n",
    "\n",
    "![img](https://i.imgur.com/XIaBAIv.jpg)\n",
    "\n",
    "2. Thay đổi độ tương phản (1 điểm)\n",
    "\n",
    "![img](https://i.imgur.com/4uxIHJD.jpg)\n",
    "\n",
    "3. Chuyển đổi ảnh RGB thành ảnh xám (2 điểm)\n",
    "\n",
    "![img](https://i.imgur.com/qJw14wS.jpg)\n",
    "\n",
    "Tham khảo tại [đây](https://www.tutorialspoint.com/dip/grayscale_to_rgb_conversion.htm)\n",
    "\n",
    "4. Lật ảnh (ngang - dọc) (2 điểm)\n",
    "\n",
    "![img](https://i.imgur.com/VKjvVdc.jpg)\n",
    "\n",
    "5. Chồng 2 ảnh cùng kích thước (2 điểm): chỉ làm trên ảnh xám\n",
    "\n",
    "![img](https://i.imgur.com/no2NH1k.jpg)\n",
    "\n",
    "6. Làm mờ ảnh (2 điểm)\n",
    "\n",
    "![img](https://i.imgur.com/daY9Mnd.jpg)\n",
    "\n",
    "Tham khảo tại [đây](https://en.wikipedia.org/wiki/Kernel_(image_processing)), phần Box blur hoặc Gaussian blur 3 $\\times$ 3"
   ]
  },
  {
   "cell_type": "markdown",
   "metadata": {},
   "source": [
    "Trong đồ án này, bạn <font style=\"color:red\">**CHỈ ĐƯỢC PHÉP**</font> sử dụng các thư viện sau: `PIL`, `numpy`, `matplotlib`\n",
    "\n",
    "Cụ thể, nếu đề yêu cầu bạn viết ra chức năng đó, thì bạn phải thực sự viết ra chức năng đó chứ không phải gọi hàm có sẵn.\n",
    "\n",
    "- Các bạn sử dụng `PIL` (`open(), save()` từ `Image`) để đọc và ghi; `Matplotlib` (`imshow()` từ `pyplot`) để hiển thị ảnh.\n",
    "\n",
    "- Được phép sử dụng thư viện `NumPy` tùy ý."
   ]
  },
  {
   "cell_type": "markdown",
   "metadata": {},
   "source": [
    "### Quy định bài nộp <a class=\"anchor\" id=\"c22\"></a>"
   ]
  },
  {
   "cell_type": "markdown",
   "metadata": {},
   "source": [
    "* Thực hiện toàn bộ bài làm trên 1 tập tin Jupyter Notebook (.ipynb) hoặc Python (.py)\n",
    "\n",
    "\n",
    "* Bạn nộp tập tin `MSSV.zip` được nén từ thư mục MSSV chứa các tập tin sau:\n",
    "    1. Báo cáo toàn bộ bài làm: `MSSV.pdf`\n",
    "    2. Mã nguồn: `MSSV.ipynb` hoặc `MSSV.py`\n",
    "\n",
    "\n",
    "* Trong đó, nội dung tập tin báo cáo gồm có:\n",
    "    - Thông tin cá nhân: họ và tên, MSSV\n",
    "    - Liệt kê các chức năng đã hoàn thành\n",
    "    - Ý tưởng thực hiện, mô tả các hàm chức năng\n",
    "    - Hình ảnh kết quả với từng chức năng\n",
    "    \n",
    "    \n",
    "* Ví dụ minh họa cây thư mục bài nộp sau khi giải nén tập tin `MSSV.zip` như sau:\n",
    "```\n",
    "MSSV\n",
    "├── MSSV.pdf\n",
    "└── MSSV.ipynb\n",
    "```"
   ]
  },
  {
   "cell_type": "markdown",
   "metadata": {},
   "source": [
    "### Quy định chấm bài <a class=\"anchor\" id=\"c23\"></a>"
   ]
  },
  {
   "cell_type": "markdown",
   "metadata": {},
   "source": [
    "Đây là đồ án chiếm 10%.\n",
    "\n",
    "Những trường hợp sau đây sẽ bị 0 điểm toàn bộ đồ án:\n",
    "* Nộp sai quy định\n",
    "* Không có báo cáo\n",
    "* Thực thi mã nguồn báo lỗi\n",
    "\n",
    "<font style=\"color:red\">**LƯU Ý: SAO CHÉP BÀI LÀM CỦA NHAU SẼ BỊ 0 ĐIỂM TOÀN BỘ PHẦN THỰC HÀNH**</font>"
   ]
  }
 ],
 "metadata": {
  "kernelspec": {
   "display_name": "Python 3.10.4 64-bit",
   "language": "python",
   "name": "python3"
  },
  "language_info": {
   "codemirror_mode": {
    "name": "ipython",
    "version": 3
   },
   "file_extension": ".py",
   "mimetype": "text/x-python",
   "name": "python",
   "nbconvert_exporter": "python",
   "pygments_lexer": "ipython3",
   "version": "3.10.4"
  },
  "toc-autonumbering": false,
  "vscode": {
   "interpreter": {
    "hash": "aee8b7b246df8f9039afb4144a1f6fd8d2ca17a180786b69acc140d282b71a49"
   }
  }
 },
 "nbformat": 4,
 "nbformat_minor": 4
}
