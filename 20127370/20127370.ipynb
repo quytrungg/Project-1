{
 "cells": [
  {
   "cell_type": "markdown",
   "metadata": {},
   "source": [
    "# <center>PROJECT 1: COLOR COMPRESSION</center>"
   ]
  },
  {
   "cell_type": "markdown",
   "metadata": {},
   "source": [
    "### <center> Class: 20CLC11</center>\n",
    "### <center> Student: Mai Quý Trung - 20127370</center>"
   ]
  },
  {
   "cell_type": "markdown",
   "metadata": {},
   "source": [
    "### <b> <u>Bước 1 </u>: Import thư viện </b>\n",
    "Em sử dụng các thư viện như sau: \n",
    "- `matplotlib`: dùng `plt` để xuất ảnh dưới dạng figure và lưu lại dưới dạng png/pdf, dùng `img` để import ảnh và chuyển ảnh thành ma trận các pixel màu\n",
    "- `numpy`: thư viện dùng để xử lí các thông tin trên các ma trận n chiều và random choice\n",
    "- `scipy`: dùng cdist để tính khoảng cách gần nhất từ các điểm ảnh với các centroid sử dụng thuật toán euclidean"
   ]
  },
  {
   "cell_type": "code",
   "execution_count": 1,
   "metadata": {},
   "outputs": [],
   "source": [
    "import matplotlib.pyplot as plt\n",
    "import matplotlib.image as img\n",
    "import numpy as np\n",
    "from scipy.spatial.distance import cdist\n",
    "import random"
   ]
  },
  {
   "cell_type": "markdown",
   "metadata": {},
   "source": [
    "### <b> <u>Bước 2 </u>: Viết thuật toán K Means (K-means clustering algorithm) </b>"
   ]
  },
  {
   "cell_type": "markdown",
   "metadata": {},
   "source": [
    "Các bước thực hiện chi tiết thuật toán:\n",
    "1.  Các thông số truyền vào:\n",
    "- `img_1d`: ma trận 1 chiều các pixel màu của ảnh\n",
    "- `k_clusters`: số lượng màu mong muốn (số lượng cluster để phân nhóm)\n",
    "- `max_iter`: giá trị tối đa số lần lặp lại các bước phân nhóm\n",
    "- `init_centroids`: chọn centroid theo 1 trong 2 kiểu `random` hoặc `in-pixels` (default là `random`)\n",
    "2. Giá trị trả về: Hàm sẽ trả về các giá trị sau đây\n",
    "- centroid: mảng chứa số lượng màu tương ứng với số nhóm được phân chia (cluster)\n",
    "- labels: mảng ma trận các pixel màu với mỗi pixel được dán nhãn nhóm mà pixel đó thuộc về\n",
    "3. Chi tiết hàm:\n",
    "- Đầu tiên, tạo biến centroids là mảng trống, với centroid sẽ là các pixel màu đại diện cho từng group (cluster)\n",
    "- Tiếp theo, nếu `init_centroids` là `random`: tạo biến check = False, rồi sẽ chọn vị trí bắt đầu (k_index) và chọn ra `k_clusters` màu cho mảng centroids. Sau đó centroids sẽ được gán các pixel màu đó từ `img_1d`\n",
    "- Nếu `init_centroids` là `in-pixels`: sẽ lấy `k_clusters` màu bằng cách random từng màu R, G và B cho mỗi pixel, nếu ảnh là màu rgb thì centroids sẽ được random 3 pixel màu, nếu là rgba thì 4 màu\n",
    "- Sau khi có được mảng centroids, ta sẽ tính khoảng cách từ mỗi pixel trong `img_1d` đến các centroids sử dụng hàm `cdist` với thuật toán `euclidean`\n",
    "- Với khoảng cách đến các centroids của từng pixel màu, ta sẽ thực hiện việc nhán dãn (label) từng pixel màu với centroid gần với pixel đó nhất bằng hàm `argmin` của thư viện `numpy`\n",
    "- Sau khi label các pixel màu, ta sẽ cho chạy vòng lặp với số lần lặp là `max_iter`, gán centroids lại bằng mảng rỗng, với số lượng centroid và vị trí của chúng ban đầu, ta sẽ thiết lập vị trí mới của chúng để có thể tập trung các pixel màu chính xác hơn bằng hàm `mean` tính trung bình của các pixel xung quanh cluster tương ứng\n",
    "- Các vị trí centroid sau đó được update và ta sẽ thực hiện lại công việc tính khoảng cách đến các centroid và label từng pixel màu, cho đến hết số lần `max_iter`\n",
    "- <b><u>Lưu ý</u>:</b> <i>`max_iter` càng lớn, độ chính xác phân vùng các nhóm màu càng cao nhưng sẽ đi đôi với việc hàm sẽ chạy lâu hơn</i>\n"
   ]
  },
  {
   "cell_type": "code",
   "execution_count": 2,
   "metadata": {},
   "outputs": [],
   "source": [
    "def k_means_clustering_algorithm(img_1d, k_clusters, max_iter, init_centroids='random'):\n",
    "    centroids, length = [], len(img_1d)\n",
    "    if init_centroids == 'in-pixels':\n",
    "        # step 1: randomly choose a k index\n",
    "        check = False\n",
    "        k_index = np.random.choice(length, k_clusters, check)\n",
    "        #print(k_index)\n",
    "        # initialize centroid from k_index\n",
    "        centroids = img_1d[k_index, :]\n",
    "        #print(centroids)\n",
    "    elif init_centroids == 'random':\n",
    "        # step 1: choose k_clusters colors and append them to centroid\n",
    "        centroids = np.random.randint(255, size = (k_clusters, img_1d.shape[1]))\n",
    "        #print(centroids)\n",
    "\n",
    "    # step 2: find the distance from pixels to centroids using euclidean\n",
    "    centroid_dist = cdist(img_1d, centroids, 'euclidean')\n",
    "\n",
    "    # step 3: label pixels to their closest centroid cluster by measuring the minimum distance\n",
    "    labels = np.array([np.argmin(i) for i in centroid_dist])\n",
    "\n",
    "    # step 4: for loop to repeat the process max_iter times\n",
    "    while max_iter > 0:\n",
    "        temp = centroids\n",
    "        centroids = []\n",
    "        # step 5: for loop number of new centroids by creating new center based on the previous ones\n",
    "        for index in range(0, k_clusters):\n",
    "            # update centroids by taking mean\n",
    "            if True:\n",
    "                new_center = img_1d[index == labels].mean(axis=0)\n",
    "                centroids.append(new_center)\n",
    "\n",
    "        if init_centroids == 'in-pixels':\n",
    "            for new in centroids:\n",
    "                for old in temp:\n",
    "                    if all(new == old): max_iter = 1\n",
    "\n",
    "        # step 6: update centroids and calculate the centroid distance and labels again \n",
    "        centroids = np.vstack(centroids)\n",
    "        centroid_dist, labels = cdist(img_1d, centroids, 'euclidean'), np.array([np.argmin(i) for i in centroid_dist])\n",
    "        max_iter -= 1\n",
    "\n",
    "    return centroids, labels"
   ]
  },
  {
   "cell_type": "markdown",
   "metadata": {},
   "source": [
    "### <b> <u>Bước 3 </u>: Khởi tạo các giá trị ban đầu </b>\n",
    "Hàm dưới đây sẽ hoạt động như sau:\n",
    "- Cho người dùng nhập vào tên file\n",
    "- Cho người dùng nhập vào định dạng file muốn xuất (png/pdf)\n",
    "- Sau đó hàm sẽ xử lí chuỗi lấy tên của file (không chưa extension) và định dạng file muốn xuất"
   ]
  },
  {
   "cell_type": "code",
   "execution_count": 3,
   "metadata": {},
   "outputs": [],
   "source": [
    "def initialize():\n",
    "    filename = str(input(\"Enter filename: \"))\n",
    "    index = filename.find(\".\")\n",
    "    name = filename[0:index]\n",
    "    type = str(input(\"Enter format file (png/pdf): \")).lower()\n",
    "    return filename, name, type"
   ]
  },
  {
   "cell_type": "markdown",
   "metadata": {},
   "source": [
    "### <b> <u>Bước 4 </u>: Xử lí ảnh, chuyển đổi từ file raw sang ma trận các pixel màu </b>\n",
    "Các bước hàm thực hiện như sau:\n",
    "- Hàm nhận input argument là filename từ người dùng nhập vào\n",
    "- Sau đó sử dụng thư viện `matplotlib.image` hàm `imread` để chuyển ảnh sang ma trận 3 chiều: chiều dài, chiều rộng và mỗi điểm ảnh là 1 ma trận gồm 3 hoặc 4 phần tử (3 cho màu `rgb` và 4 cho màu `rgba`)\n",
    "- Chuyển đổi từ ma trận 2 chiều với các mảng màu rgb/rgba sang ma trận 1 chiều với hàm `reshape`\n",
    "- Sau đó lưu các thông số chiều cao, chiều rộng và số lượng màu của ảnh vào và trả về các giá trị đó"
   ]
  },
  {
   "cell_type": "code",
   "execution_count": 4,
   "metadata": {},
   "outputs": [],
   "source": [
    "def handling_picture(filename):\n",
    "    image = img.imread(filename)\n",
    "    h, w, c = image.shape[0], image.shape[1], image.shape[2]\n",
    "    image = image.reshape(h * w, c)\n",
    "    return image, h, w, c"
   ]
  },
  {
   "cell_type": "markdown",
   "metadata": {},
   "source": [
    "### <b> <u>Bước 5 </u>: Hàm main, sử dụng K Means với centroid ban đầu là random </b>\n",
    "Các bước thực hiện:\n",
    "- Lấy filename và định dạng file muốn xuất từ hàm `initialize` được nêu trên\n",
    "- Sau đó khởi tạo mảng với số lượng cluster theo thứ tự giảm dần: 7, 5, 3\n",
    "- Chạy vòng lặp for trong mảng cluster\n",
    "- Lấy ma trận 3 chiều các pixel màu, chiều cao, chiều rộng và loại màu từ hàm `handling_picture`\n",
    "- Sau đó dùng thuật toán `k_means_clustering_algorithm` với số lượng cluster tương ứng, `max_iter = 30` và `init_centroid = 'random'`\n",
    "- Hàm trả về centroids và labels\n",
    "- Sau đó gán lại các giá trị màu từ centroids và labels vào ma trận ảnh\n",
    "- Lúc này ma trận ảnh đang là ma trận 1 chiều, ta thực hiện hàm `reshape` để đưa về ma trận 2 chiều ban đầu\n",
    "- Ảnh sau đó được thư viện `plt` thực hiện các hàm `imshow` và `show` để xuất ảnh ra figure và hàm `imsave` để lưu figure với định dạng tương ứng\n"
   ]
  },
  {
   "cell_type": "code",
   "execution_count": 5,
   "metadata": {},
   "outputs": [],
   "source": [
    "def mainRandom():\n",
    "    filename, name, type = initialize()\n",
    "    k = [7, 5, 3]\n",
    "    for idx in range(len(k)):\n",
    "        image, h, w, c = handling_picture(filename)\n",
    "        print(\"cluster =\", k[idx])\n",
    "        centroids, labels = k_means_clustering_algorithm(image, k[idx], 30, 'random')\n",
    "        for i in range(0, image.shape[0]):\n",
    "            image[i] = centroids[labels[i]]\n",
    "        data = image.reshape(h, w, c)\n",
    "        plt.imshow(data)\n",
    "        plt.show()\n",
    "        plt.imsave(name + \"-cluster=\" + str(k[idx]) + \".\" + type, data)\n"
   ]
  },
  {
   "cell_type": "markdown",
   "metadata": {},
   "source": [
    "### <b> <u>Bước 5 </u>: Hàm main, sử dụng K Means với centroid ban đầu là in-pixels </b>\n",
    "Hàm được thực hiện tương tượng như hàm `mainRandom` nhưng sử dụng thuật toán `k_means_clustering_algorithm` với `init_centroid = 'in-pixels'`"
   ]
  },
  {
   "cell_type": "code",
   "execution_count": 6,
   "metadata": {},
   "outputs": [],
   "source": [
    "def mainInPixels():\n",
    "    filename, name, type = initialize()\n",
    "    k = [7, 5, 3]\n",
    "    for idx in range(len(k)):\n",
    "        image, h, w, c = handling_picture(filename)\n",
    "        print(\"cluster =\", k[idx])\n",
    "        centroids, labels = k_means_clustering_algorithm(image, k[idx], 30, 'in-pixels')\n",
    "        for i in range(0, image.shape[0]):\n",
    "            image[i] = centroids[labels[i]]\n",
    "        data = image.reshape(h, w, c)\n",
    "        plt.imshow(data)\n",
    "        plt.show()\n",
    "        plt.imsave(name + \"-cluster=\" + str(k[idx]) + \".\" + type, data)\n"
   ]
  },
  {
   "cell_type": "markdown",
   "metadata": {},
   "source": [
    "### <b> <u>Bước 5 </u>: Gọi hàm main và thực thi</b>"
   ]
  },
  {
   "cell_type": "markdown",
   "metadata": {},
   "source": [
    "#### Hàm main dùng k means với centroid random"
   ]
  },
  {
   "cell_type": "code",
   "execution_count": null,
   "metadata": {},
   "outputs": [],
   "source": [
    "#mainRandom()"
   ]
  },
  {
   "cell_type": "markdown",
   "metadata": {},
   "source": [
    "#### Hàm main dùng k means với centroid in-pixels"
   ]
  },
  {
   "cell_type": "code",
   "execution_count": 8,
   "metadata": {},
   "outputs": [],
   "source": [
    "mainInPixels()"
   ]
  },
  {
   "cell_type": "code",
   "execution_count": null,
   "metadata": {},
   "outputs": [],
   "source": []
  }
 ],
 "metadata": {
  "interpreter": {
   "hash": "aee8b7b246df8f9039afb4144a1f6fd8d2ca17a180786b69acc140d282b71a49"
  },
  "kernelspec": {
   "display_name": "Python 3.10.4 64-bit",
   "language": "python",
   "name": "python3"
  },
  "language_info": {
   "codemirror_mode": {
    "name": "ipython",
    "version": 3
   },
   "file_extension": ".py",
   "mimetype": "text/x-python",
   "name": "python",
   "nbconvert_exporter": "python",
   "pygments_lexer": "ipython3",
   "version": "3.10.4"
  },
  "orig_nbformat": 4
 },
 "nbformat": 4,
 "nbformat_minor": 2
}
